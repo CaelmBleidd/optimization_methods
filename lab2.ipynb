{
 "cells": [
  {
   "cell_type": "markdown",
   "metadata": {
    "collapsed": true,
    "pycharm": {
     "name": "#%% md\n"
    }
   },
   "source": [
    "# Лабораторная работа №2\n",
    "\n",
    "Выполнили:\n",
    "* Меньшутин Алексей, M3436\n",
    "* Каменев Юрий, M3436"
   ]
  },
  {
   "cell_type": "code",
   "execution_count": 2,
   "outputs": [],
   "source": [
    "import numpy as np"
   ],
   "metadata": {
    "collapsed": false,
    "pycharm": {
     "name": "#%%\n"
    }
   }
  },
  {
   "cell_type": "markdown",
   "source": [
    "Возьмём три функции:\n",
    "* квадратичная: $f(\\tilde{x}) = 100(x_2 - x_1) ^ 2 + (1 - x_1) ^ 2$\n",
    "* функция Розенброка: $f(\\tilde{x}) = 100(x_2 - x_1^2)^2 + (1 - x_1)^2 $\n",
    "* тестовая функция: $f(x, y) = 2e^{-(\\frac{x - 1}{2})^2 - (\\frac{y - 1}{1})^2} + 3e^{-(\\frac{x - 2}{3})^2 - (\\frac{y - 3}{2})^2} $"
   ],
   "metadata": {
    "collapsed": false
   }
  },
  {
   "cell_type": "code",
   "execution_count": 3,
   "outputs": [],
   "source": [
    "def quad_function(x):\n",
    "    return 100 * (x[1] - x[0]) ** 2 + (1 - x[0]) ** 2\n",
    "\n",
    "def rosenbrock(x):\n",
    "    return 100 * (x[1] - x[0] ** 2) ** 2 + (1 - x[0]) ** 2\n",
    "\n",
    "def rosenbrock_function_grad(arg):\n",
    "    x = arg[0]\n",
    "    y = arg[1]\n",
    "    dx = 2 * (200 * (x ** 3) - 200 * x * y + x - 1)\n",
    "    dy = 200 * (y - (x ** 2))\n",
    "    return np.array([dx, dy])\n",
    "\n",
    "\n",
    "def test_function(x, y):\n",
    "    return 2 * np.exp(-((x - 1) / 2) ** 2 - ((y - 1) / 1) ** 2) + 3 * np.exp(-((x - 2) / 3) ** 2 - ((y - 3) / 2) ** 2)\n"
   ],
   "metadata": {
    "collapsed": false,
    "pycharm": {
     "name": "#%%\n"
    }
   }
  },
  {
   "cell_type": "markdown",
   "source": [
    "## Метод сопряжённых направлений\n",
    "\n",
    "Метод Флетчера-Ривса"
   ],
   "metadata": {
    "collapsed": false,
    "pycharm": {
     "name": "#%% md\n"
    }
   }
  },
  {
   "cell_type": "code",
   "execution_count": 4,
   "outputs": [],
   "source": [
    "def golden_ratio(function, left_border, right_border, x_n, s_n, eps=1e-5):\n",
    "    phi = (1 + np.sqrt(5)) / 2\n",
    "    a = left_border\n",
    "    b = right_border\n",
    "\n",
    "    c_1 = b - (b - a) / phi\n",
    "    c_2 = a + (b - a) / phi\n",
    "\n",
    "    calc_result = [function(x_n + c_1 * s_n), function(x_n + c_2 * s_n)]\n",
    "\n",
    "    while (b - a) / 2 >= eps:\n",
    "        if calc_result[0] > calc_result[1]:\n",
    "            a = c_1\n",
    "            c_1 = c_2\n",
    "            c_2 = b - (c_1 - a)\n",
    "            calc_result[0] = calc_result[1]\n",
    "            calc_result[1] = function(x_n + c_2 * s_n)\n",
    "        else:\n",
    "            b = c_2\n",
    "            c_2 = c_1\n",
    "            c_1 = a + b - c_2\n",
    "            calc_result[1] = calc_result[0]\n",
    "            calc_result[0] = function(x_n + c_1 * s_n)\n",
    "\n",
    "    c = (b + a) / 2\n",
    "\n",
    "    return c\n",
    "\n",
    "def flercherRievesMethod(n, f, f_grad, start_point, eps = 1e-5):\n",
    "    x_k = start_point\n",
    "\n",
    "    num_iter = 0\n",
    "\n",
    "    anti_grad_x_k = -f_grad(x_k)\n",
    "    alpha_k = golden_ratio(f, 0, 1e5, x_k, anti_grad_x_k, 1e-8)\n",
    "    s_prev = anti_grad_x_k\n",
    "    grad_square = np.inner(anti_grad_x_k, anti_grad_x_k)\n",
    "    x_k = x_k + alpha_k * anti_grad_x_k\n",
    "\n",
    "    while grad_square > eps:\n",
    "        num_iter += 1\n",
    "\n",
    "        prev_grad = anti_grad_x_k\n",
    "        anti_grad_x_k = -f_grad(x_k)\n",
    "        if num_iter == n * 5:\n",
    "            beta_k = 0\n",
    "            num_iter = 0\n",
    "        else:\n",
    "            beta_k = np.inner(anti_grad_x_k, anti_grad_x_k) / np.inner(prev_grad, prev_grad)\n",
    "        s_k = anti_grad_x_k + beta_k * s_prev\n",
    "        s_prev = s_k\n",
    "        alpha_k = golden_ratio(f, 0, 1e5, x_k, s_k)\n",
    "        x_k = x_k + alpha_k * s_k\n",
    "\n",
    "    print(num_iter)\n",
    "    return x_k\n",
    "\n",
    "flercherRievesMethod(2, rosenbrock, rosenbrock_function_grad, np.zeros(2))"
   ],
   "metadata": {
    "collapsed": false,
    "pycharm": {
     "name": "#%%\n"
    }
   }
  },
  {
   "cell_type": "code",
   "execution_count": null,
   "outputs": [],
   "source": [],
   "metadata": {
    "collapsed": false,
    "pycharm": {
     "name": "#%%\n"
    }
   }
  },
  {
   "cell_type": "markdown",
   "source": [
    "## Метод Ньютона\n",
    "\n",
    "Описание..."
   ],
   "metadata": {
    "collapsed": false,
    "pycharm": {
     "name": "#%% md\n"
    }
   }
  },
  {
   "cell_type": "code",
   "execution_count": null,
   "outputs": [],
   "source": [],
   "metadata": {
    "collapsed": false,
    "pycharm": {
     "name": "#%%\n"
    }
   }
  }
 ],
 "metadata": {
  "kernelspec": {
   "display_name": "Python 3",
   "language": "python",
   "name": "python3"
  },
  "language_info": {
   "codemirror_mode": {
    "name": "ipython",
    "version": 2
   },
   "file_extension": ".py",
   "mimetype": "text/x-python",
   "name": "python",
   "nbconvert_exporter": "python",
   "pygments_lexer": "ipython2",
   "version": "2.7.6"
  }
 },
 "nbformat": 4,
 "nbformat_minor": 0
}