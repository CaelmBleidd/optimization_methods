{
 "cells": [
  {
   "cell_type": "markdown",
   "metadata": {
    "collapsed": true,
    "pycharm": {
     "name": "#%% md\n"
    }
   },
   "source": [
    "# Лабораторная работа №2\n",
    "\n",
    "Выполнили:\n",
    "* Меньшутин Алексей, M3436\n",
    "* Каменев Юрий, M3436"
   ]
  },
  {
   "cell_type": "code",
   "execution_count": 1,
   "outputs": [],
   "source": [
    "import numpy as np"
   ],
   "metadata": {
    "collapsed": false,
    "pycharm": {
     "name": "#%%\n"
    }
   }
  },
  {
   "cell_type": "code",
   "execution_count": 1,
   "outputs": [],
   "source": [],
   "metadata": {
    "collapsed": false,
    "pycharm": {
     "name": "#%%\n"
    }
   }
  },
  {
   "cell_type": "markdown",
   "source": [
    "Возьмём три функции:\n",
    "* квадратичная: $f(\\tilde{x}) = 100(x_2 - x_1) ^ 2 + (1 - x_1) ^ 2$\n",
    "* функция Розенброка: $f(\\tilde{x}) = 100(x_2 - x_1^2)^2 + (1 - x_1)^2 $\n",
    "* тестовая функция: $f(x, y) = 2e^{-(\\frac{x - 1}{2})^2 - (\\frac{y - 1}{1})^2} + 3e^{-(\\frac{x - 2}{3})^2 - (\\frac{y - 3}{2})^2} $"
   ],
   "metadata": {
    "collapsed": false
   }
  },
  {
   "cell_type": "code",
   "execution_count": 2,
   "outputs": [],
   "source": [
    "def quad_function(x):\n",
    "    return 100 * (x[1] - x[0]) ** 2 + (1 - x[0]) ** 2\n",
    "\n",
    "def rosenbrock(x):\n",
    "    return 100 * (x[1] - x[0] ** 2) ** 2 + (1 - x[0]) ** 2\n",
    "\n",
    "def rosenbrock_function_grad(arg):\n",
    "    x = arg[0]\n",
    "    y = arg[1]\n",
    "    dx = 2 * (200 * (x ** 3) - 200 * x * y + x - 1)\n",
    "    dy = 200 * (y - (x ** 2))\n",
    "    return np.array([dx, dy])\n",
    "\n",
    "\n",
    "def test_function(x, y):\n",
    "    return 2 * np.exp(-((x - 1) / 2) ** 2 - ((y - 1) / 1) ** 2) + 3 * np.exp(-((x - 2) / 3) ** 2 - ((y - 3) / 2) ** 2)\n"
   ],
   "metadata": {
    "collapsed": false,
    "pycharm": {
     "name": "#%%\n"
    }
   }
  },
  {
   "cell_type": "markdown",
   "source": [
    "## Метод сопряжённых направлений\n",
    "\n",
    "Метод Флетчера-Ривса"
   ],
   "metadata": {
    "collapsed": false,
    "pycharm": {
     "name": "#%% md\n"
    }
   }
  },
  {
   "cell_type": "code",
   "execution_count": null,
   "outputs": [],
   "source": [
    "def golden_ratio(f, left, right, s, p, eps=1e-8):\n",
    "    a = left\n",
    "    b = right\n",
    "\n",
    "    c_1 = a + 1 / 2 * (3 - np.sqrt(5)) * (b - a)\n",
    "    c_2 = b - c_1 + a\n",
    "\n",
    "    calc_result = [f(s + c_1 * p), f(s + c_2 * p)]\n",
    "\n",
    "    while np.abs(b - a) >= eps:\n",
    "        if calc_result[0] < calc_result[1]:\n",
    "            b = c_2\n",
    "            c_2 = c_1\n",
    "            c_1 = a + b - c_2\n",
    "            calc_result[1] = calc_result[0]\n",
    "            calc_result[0] = f(s + c_1 * p)\n",
    "        else:\n",
    "            a = c_1\n",
    "            c_2 = c_1\n",
    "            c_1 = b + a - c_2\n",
    "            calc_result[1] = calc_result[0]\n",
    "            calc_result[0] = f(s + c_1 * p)\n",
    "\n",
    "    return (b + a) / 2\n",
    "\n",
    "def flercherRievesMethod(n, f, f_grad):\n",
    "    eps = 1e-5\n",
    "    x = np.zeros(n)\n",
    "    cur_val = f(x)\n",
    "    prev_val = cur_val\n",
    "    grad = -f_grad(x)\n",
    "    p = -grad\n",
    "    grad_square = np.inner(p, p)\n",
    "\n",
    "    num_iter = 0\n",
    "\n",
    "    while grad_square > eps:\n",
    "        num_iter += 1\n",
    "        alpha = golden_ratio(f, 0, 1e5, x, p)\n",
    "        x = x + alpha * p\n",
    "        new_grad = -f_grad(x)\n",
    "        new_grad_square = np.inner(new_grad, new_grad)\n",
    "\n",
    "        if num_iter % (5 * n) == 0:\n",
    "            beta = 0\n",
    "        else:\n",
    "            beta = new_grad_square / grad_square\n",
    "        p = new_grad + beta * p\n",
    "\n",
    "        prev_val = cur_val\n",
    "        cur_val = f(x)\n",
    "\n",
    "        grad_square = new_grad_square\n",
    "\n",
    "    print(num_iter)\n",
    "    return x\n",
    "\n",
    "flercherRievesMethod(2, rosenbrock, rosenbrock_function_grad)"
   ],
   "metadata": {
    "collapsed": false,
    "pycharm": {
     "name": "#%%\n",
     "is_executing": true
    }
   }
  },
  {
   "cell_type": "code",
   "execution_count": null,
   "outputs": [],
   "source": [],
   "metadata": {
    "collapsed": false,
    "pycharm": {
     "name": "#%%\n"
    }
   }
  },
  {
   "cell_type": "markdown",
   "source": [
    "## Метод Ньютона\n",
    "\n",
    "Описание..."
   ],
   "metadata": {
    "collapsed": false,
    "pycharm": {
     "name": "#%% md\n"
    }
   }
  },
  {
   "cell_type": "code",
   "execution_count": null,
   "outputs": [],
   "source": [],
   "metadata": {
    "collapsed": false,
    "pycharm": {
     "name": "#%%\n"
    }
   }
  }
 ],
 "metadata": {
  "kernelspec": {
   "display_name": "Python 3",
   "language": "python",
   "name": "python3"
  },
  "language_info": {
   "codemirror_mode": {
    "name": "ipython",
    "version": 2
   },
   "file_extension": ".py",
   "mimetype": "text/x-python",
   "name": "python",
   "nbconvert_exporter": "python",
   "pygments_lexer": "ipython2",
   "version": "2.7.6"
  }
 },
 "nbformat": 4,
 "nbformat_minor": 0
}