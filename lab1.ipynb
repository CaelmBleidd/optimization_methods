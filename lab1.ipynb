{
 "cells": [
  {
   "cell_type": "markdown",
   "metadata": {
    "collapsed": true,
    "pycharm": {
     "name": "#%% md\n"
    }
   },
   "source": [
    "# Лабораторная работа #1\n",
    "Выполнили:\n",
    "* Меньшутин Алексей M3436\n",
    "* Юрий Каменев M3436"
   ]
  },
  {
   "cell_type": "markdown",
   "source": [
    "## Задание №1\n",
    "Реализуйте методы одномерного поиска: метод дихотомии, метод золотого сечения, метод Фибоначчи. Сравните их пол количеству итераций и количеству вычислений функции в зависимости от разной точности. Для каждого метода обязательно указывайте, как изменяется отрезок при переходе к следующей итерации.\n",
    "\n",
    "Будем искать минимум функции $F = 4 - e^x + 2x^2$"
   ],
   "metadata": {
    "collapsed": false,
    "pycharm": {
     "name": "#%% md\n"
    }
   }
  },
  {
   "cell_type": "markdown",
   "source": [
    "### Метод дихотомии\n",
    "1. Выбираем некоторый отрезок $ [a, b] $\n",
    "2. Находим середину отрезка $c = \\frac{(a + b)}{2}$\n",
    "3. Вычисляем значение функции $F(c)$ в окрестностях $x$: $F_1 = F(c - \\epsilon), F_2 = F(c + \\epsilon)$\n",
    "4. Сравниваем $F_1$ и $F_2$, отбрасываем одну из половин отрезка $[a, b]$.\n",
    "5. Так как мы ищем минимум, если $F_1 < F_2$, то отбрасываем отрезок $[c, b]$. Иначе отбрасываем отрезок $[a, c]$\n",
    "6. Повторяем процедуру до тех пор, пока длина отрезка не станет меньше заданной точности $\\epsilon$"
   ],
   "metadata": {
    "collapsed": false,
    "pycharm": {
     "name": "#%% md\n"
    }
   }
  },
  {
   "cell_type": "code",
   "execution_count": 67,
   "outputs": [
    {
     "name": "stdout",
     "output_type": "stream",
     "text": [
      "Requirement already satisfied: numpy in /home/damtev/.local/lib/python3.8/site-packages (1.18.3)\r\n"
     ]
    }
   ],
   "source": [
    "!{sys.executable} -m pip install numpy"
   ],
   "metadata": {
    "collapsed": false,
    "pycharm": {
     "name": "#%%\n"
    }
   }
  },
  {
   "cell_type": "code",
   "execution_count": 68,
   "outputs": [],
   "source": [
    "import numpy as np"
   ],
   "metadata": {
    "collapsed": false,
    "pycharm": {
     "name": "#%%\n"
    }
   }
  },
  {
   "cell_type": "code",
   "execution_count": 69,
   "outputs": [],
   "source": [
    "def f(x):\n",
    "    # 4 - e^x + 2x^2\n",
    "    return 4 - np.e ** x + 2 * x ** 2\n",
    "\n",
    "def f_grad(x):\n",
    "    # 4x - e^x\n",
    "    return 4 * x - np.e ** x\n",
    "\n",
    "start_point = -2.0\n",
    "end_point = 2.0"
   ],
   "metadata": {
    "collapsed": false,
    "pycharm": {
     "name": "#%%\n"
    }
   }
  },
  {
   "cell_type": "code",
   "execution_count": 70,
   "outputs": [],
   "source": [
    "def dichotomy(function, left_border, right_border, eps=1e-5):\n",
    "    a = left_border\n",
    "    b = right_border\n",
    "\n",
    "    iterations = 0\n",
    "    calculations = 0\n",
    "    segments = [(a, b)]\n",
    "\n",
    "    while abs(b - a) > eps:\n",
    "        iterations += 1\n",
    "        calculations += 2\n",
    "\n",
    "        c = (a + b) / 2\n",
    "        if function(c - eps) < function(c + eps):\n",
    "            b = c\n",
    "        else:\n",
    "            a = c\n",
    "\n",
    "        segments.append((a, b))\n",
    "\n",
    "    c = (a + b) / 2\n",
    "    return c, function(c), iterations, calculations, eps, segments"
   ],
   "metadata": {
    "collapsed": false,
    "pycharm": {
     "name": "#%%\n"
    }
   }
  },
  {
   "cell_type": "code",
   "execution_count": 71,
   "outputs": [
    {
     "data": {
      "text/plain": "(0.3574035658093635,\n 2.825861921449314,\n 36,\n 72,\n 1e-10,\n [(-2.0, 2.0),\n  (0.0, 2.0),\n  (0.0, 1.0),\n  (0.0, 0.5),\n  (0.25, 0.5),\n  (0.25, 0.375),\n  (0.3125, 0.375),\n  (0.34375, 0.375),\n  (0.34375, 0.359375),\n  (0.3515625, 0.359375),\n  (0.35546875, 0.359375),\n  (0.35546875, 0.357421875),\n  (0.3564453125, 0.357421875),\n  (0.35693359375, 0.357421875),\n  (0.357177734375, 0.357421875),\n  (0.3572998046875, 0.357421875),\n  (0.35736083984375, 0.357421875),\n  (0.357391357421875, 0.357421875),\n  (0.357391357421875, 0.3574066162109375),\n  (0.35739898681640625, 0.3574066162109375),\n  (0.3574028015136719, 0.3574066162109375),\n  (0.3574028015136719, 0.3574047088623047),\n  (0.3574028015136719, 0.3574037551879883),\n  (0.3574032783508301, 0.3574037551879883),\n  (0.3574035167694092, 0.3574037551879883),\n  (0.3574035167694092, 0.35740363597869873),\n  (0.3574035167694092, 0.35740357637405396),\n  (0.35740354657173157, 0.35740357637405396),\n  (0.35740356147289276, 0.35740357637405396),\n  (0.35740356147289276, 0.35740356892347336),\n  (0.35740356519818306, 0.35740356892347336),\n  (0.35740356519818306, 0.3574035670608282),\n  (0.35740356519818306, 0.35740356612950563),\n  (0.35740356566384435, 0.35740356612950563),\n  (0.35740356566384435, 0.357403565896675),\n  (0.35740356578025967, 0.357403565896675),\n  (0.35740356578025967, 0.35740356583846733)])"
     },
     "execution_count": 71,
     "metadata": {},
     "output_type": "execute_result"
    }
   ],
   "source": [
    "dichotomy(f, start_point, end_point, 1e-10)"
   ],
   "metadata": {
    "collapsed": false,
    "pycharm": {
     "name": "#%%\n"
    }
   }
  },
  {
   "cell_type": "markdown",
   "source": [
    "### Метод золотого сечения\n",
    "\n",
    "Говорят, что точка $c$ осуществляет золотое сечение отрезка $[a, b]$, если $\\frac{b - a}{b - c} = \\frac{b - c}{c - a} = \\phi = \\frac{1 + \\sqrt{5}}{2}$\n",
    "\n",
    "Теперь, сам алгоритм:\n",
    "1. $c_1 = b - \\frac{b - a}{\\phi}$, $c_2 = a + \\frac{b - a}{\\phi}$\n",
    "2. Повторять:\n",
    "    * если $F(c_1) > F(c_2)$, то $a = c_1, c_1 = c_2, c_2 = b - (c_1 - a)$\n",
    "    * если $F(c_1) \\le F(c_2)$, то $b = c_2, c_2 = c_1, c_1 = a + (b - c_2)$\n",
    "3. Пока $\\frac{b - a}{2} \\ge \\epsilon$\n",
    "4. Искомое значение равно $\\frac{b + a}{2}$"
   ],
   "metadata": {
    "collapsed": false,
    "pycharm": {
     "name": "#%% md\n"
    }
   }
  },
  {
   "cell_type": "code",
   "execution_count": 72,
   "outputs": [],
   "source": [
    "def golden_ratio(function, left_border, right_border, eps=1e-5):\n",
    "    phi = (1 + np.sqrt(5)) / 2\n",
    "    a = left_border\n",
    "    b = right_border\n",
    "    iterations = 0\n",
    "    calculations = 0\n",
    "    segments = [(a, b)]\n",
    "\n",
    "    c_1 = b - (b - a) / phi\n",
    "    c_2 = a + (b - a) / phi\n",
    "\n",
    "    calc_result = [function(c_1), function(c_2)]\n",
    "    calculations += 2\n",
    "\n",
    "    while (b - a) / 2 >= eps:\n",
    "        iterations += 1\n",
    "        calculations += 1\n",
    "        if calc_result[0] > calc_result[1]:\n",
    "            a = c_1\n",
    "            c_1 = c_2\n",
    "            c_2 = b - (c_1 - a)\n",
    "            calc_result[0] = calc_result[1]\n",
    "            calc_result[1] = function(c_2)\n",
    "        else:\n",
    "            b = c_2\n",
    "            c_2 = c_1\n",
    "            c_1 = a + b - c_2\n",
    "            calc_result[1] = calc_result[0]\n",
    "            calc_result[0] = function(c_1)\n",
    "        segments.append((a, b))\n",
    "\n",
    "    c = (b + a) / 2\n",
    "\n",
    "    return c, function(c), iterations, calculations, eps, segments"
   ],
   "metadata": {
    "collapsed": false,
    "pycharm": {
     "name": "#%%\n"
    }
   }
  },
  {
   "cell_type": "code",
   "execution_count": 73,
   "outputs": [
    {
     "data": {
      "text/plain": "(0.3574030285886727,\n 2.8258619214488427,\n 41,\n 43,\n 1e-10,\n [(-2.0, 2.0),\n  (-0.47213595499957917, 2.0),\n  (-0.47213595499957917, 1.0557280900008417),\n  (0.11145618000168334, 1.0557280900008417),\n  (0.11145618000168334, 0.6950483150029458),\n  (0.11145618000168334, 0.47213595499957917),\n  (0.2492235949962125, 0.47213595499957917),\n  (0.2492235949962125, 0.38699100999074165),\n  (0.30184606498190414, 0.38699100999074165),\n  (0.33436854000505, 0.38699100999074165),\n  (0.33436854000505, 0.3668910150281959),\n  (0.3467910200656501, 0.3668910150281959),\n  (0.3544685349675958, 0.3668910150281959),\n  (0.3544685349675958, 0.36214604986954146),\n  (0.3544685349675958, 0.3592135001262502),\n  (0.3562809503829589, 0.3592135001262502),\n  (0.3562809503829589, 0.35809336579832207),\n  (0.35697323147039395, 0.35809336579832207),\n  (0.35697323147039395, 0.35766551255782897),\n  (0.35723765931733586, 0.35766551255782897),\n  (0.35723765931733586, 0.3575020871642778),\n  (0.3573386617707266, 0.3575020871642778),\n  (0.3573386617707266, 0.3574396642241173),\n  (0.35737724128395687, 0.3574396642241173),\n  (0.35737724128395687, 0.35741582079718714),\n  (0.35739197737025696, 0.35741582079718714),\n  (0.35739197737025696, 0.35740671345655706),\n  (0.35739760611592697, 0.35740671345655706),\n  (0.35740108471088705, 0.35740671345655706),\n  (0.35740108471088705, 0.35740456330584713),\n  (0.3574024131551372, 0.35740456330584713),\n  (0.3574024131551372, 0.35740374159938737),\n  (0.3574024131551372, 0.357403234861597),\n  (0.3574027281238066, 0.357403234861597),\n  (0.3574027281238066, 0.35740304309247595),\n  (0.3574028513233549, 0.35740304309247595),\n  (0.3574029198929276, 0.35740304309247595),\n  (0.3574029198929276, 0.3574029884625003),\n  (0.35740293383252464, 0.3574029884625003),\n  (0.35740297452290326, 0.3574029884625003),\n  (0.35740297452290326, 0.3574030152132819),\n  (0.3574030419640635, 0.3574030152132819)])"
     },
     "execution_count": 73,
     "metadata": {},
     "output_type": "execute_result"
    }
   ],
   "source": [
    "golden_ratio(f, start_point, end_point, 1e-10)"
   ],
   "metadata": {
    "collapsed": false,
    "pycharm": {
     "name": "#%%\n"
    }
   }
  },
  {
   "cell_type": "markdown",
   "source": [
    "### Метод Фибоначчи"
   ],
   "metadata": {
    "collapsed": false,
    "pycharm": {
     "name": "#%% md\n"
    }
   }
  },
  {
   "cell_type": "code",
   "execution_count": 74,
   "outputs": [],
   "source": [
    "def calculate_fibonacci(n):\n",
    "    return int(((1 + np.sqrt(5)) ** n - (1 - np.sqrt(5)) ** n) / (2 ** n * np.sqrt(5)))\n",
    "\n",
    "def find_fibonacci_number(a, b, l):\n",
    "    left = 0\n",
    "    right = 1000\n",
    "    while left < right - 1:\n",
    "        middle = int((left + right) / 2)\n",
    "        if calculate_fibonacci(middle) > (b - a) / l:\n",
    "            right = middle\n",
    "        else:\n",
    "            left = middle\n",
    "    return right\n",
    "\n",
    "def generate_fibonacci(n):\n",
    "    sequence = []\n",
    "    for i in range(n + 1):\n",
    "        sequence.append(calculate_fibonacci(i))\n",
    "    return sequence"
   ],
   "metadata": {
    "collapsed": false,
    "pycharm": {
     "name": "#%%\n"
    }
   }
  },
  {
   "cell_type": "code",
   "execution_count": 75,
   "outputs": [],
   "source": [
    "def fibonacci(function, left_border, right_border, eps=1e-5):\n",
    "    a = left_border\n",
    "    b = right_border\n",
    "\n",
    "    segments = [(a, b)]\n",
    "\n",
    "    fib_number = find_fibonacci_number(a, b, eps)\n",
    "    fibonacci_seq = generate_fibonacci(fib_number)\n",
    "\n",
    "    c_1 = a + fibonacci_seq[fib_number - 2] / fibonacci_seq[fib_number] * (b - a)\n",
    "    c_2 = a + fibonacci_seq[fib_number - 1] / fibonacci_seq[fib_number] * (b - a)\n",
    "\n",
    "    k = 1\n",
    "    calc_res = [function(c_1), function(c_2)]\n",
    "\n",
    "    iterations = 0\n",
    "    calculations = 2\n",
    "\n",
    "    while True:\n",
    "        iterations += 1\n",
    "        if calc_res[0] > calc_res[1]:\n",
    "            a = c_1\n",
    "            c_1 = c_2\n",
    "            c_2 = a + fibonacci_seq[fib_number - k - 1] / fibonacci_seq[fib_number - k] * (b - a)\n",
    "            if k == fib_number - 2:\n",
    "                break\n",
    "            else:\n",
    "                calc_res[0] = calc_res[1]\n",
    "                calc_res[1] = function(c_2)\n",
    "                calculations += 1\n",
    "        else:\n",
    "            b = c_2\n",
    "            c_2 = c_1\n",
    "            c_1 = a + fibonacci_seq[fib_number - k - 2] / fibonacci_seq[fib_number - k] * (b - a)\n",
    "            if k == fib_number - 2:\n",
    "                break\n",
    "            else:\n",
    "                calc_res[1] = calc_res[0]\n",
    "                calc_res[0] = function(c_1)\n",
    "                calculations += 1\n",
    "        k += 1\n",
    "        segments.append((a, b))\n",
    "\n",
    "    c_2 = c_1 + eps\n",
    "    calculations += 1\n",
    "    if np.isclose(calc_res[0], function(c_2)):\n",
    "        a = c_1\n",
    "    else:\n",
    "        b = c_2\n",
    "\n",
    "    segments.append((a, b))\n",
    "    c = (a + b) / 2\n",
    "\n",
    "    return c, function(c), iterations, calculations, eps, segments"
   ],
   "metadata": {
    "collapsed": false,
    "pycharm": {
     "name": "#%%\n"
    }
   }
  },
  {
   "cell_type": "code",
   "execution_count": 76,
   "outputs": [
    {
     "data": {
      "text/plain": "(0.3574029416669157,\n 2.825861921448836,\n 51,\n 53,\n 1e-10,\n [(-2.0, 2.0),\n  (-0.4721359549995794, 2.0),\n  (-0.4721359549995794, 1.0557280900008414),\n  (0.11145618000168256, 1.0557280900008414),\n  (0.11145618000168256, 0.6950483150029445),\n  (0.11145618000168256, 0.4721359549995796),\n  (0.2492235949962147, 0.4721359549995796),\n  (0.2492235949962147, 0.38699100999074687),\n  (0.3018460649819141, 0.38699100999074687),\n  (0.33436854000504745, 0.38699100999074687),\n  (0.33436854000504745, 0.3668910150281809),\n  (0.3467910200656149, 0.3668910150281809),\n  (0.35446853496761344, 0.3668910150281809),\n  (0.35446853496761344, 0.36214604986961196),\n  (0.35446853496761344, 0.35921350012618236),\n  (0.35628095038275276, 0.35921350012618236),\n  (0.35628095038275276, 0.358093365797892),\n  (0.3569732314696017, 0.358093365797892),\n  (0.3569732314696017, 0.3576655125564507),\n  (0.3572376593150093, 0.3576655125564507),\n  (0.3572376593150093, 0.35750208716041687),\n  (0.3573386617643831, 0.35750208716041687),\n  (0.3573386617643831, 0.3574396642137569),\n  (0.3573772412670969, 0.3574396642137569),\n  (0.3573772412670969, 0.35741582076981077),\n  (0.3573919773258646, 0.35741582076981077),\n  (0.3573919773258646, 0.35740671338463226),\n  (0.3573976059994538, 0.35740671338463226),\n  (0.35740108471104304, 0.35740671338463226),\n  (0.35740108471104304, 0.3574045634226323),\n  (0.35740241346063234, 0.3574045634226323),\n  (0.35740241346063234, 0.3574037422102217),\n  (0.35740241346063234, 0.357403234673043),\n  (0.3574027271358643, 0.357403234673043),\n  (0.3574027271358643, 0.35740304081109625),\n  (0.3574028469491495, 0.35740304081109625),\n  (0.35740292099781107, 0.35740304081109625),\n  (0.35740292099781107, 0.3574029950464726),\n  (0.35740292099781107, 0.3574029667624347),\n  (0.3574029384783968, 0.3574029667624347),\n  (0.3574029384783968, 0.3574029559589826),\n  (0.3574029384783968, 0.35740294928184896),\n  (0.3574029384783968, 0.35740294515553045),\n  (0.35740294102921194, 0.35740294515553045),\n  (0.35740294102921194, 0.357402943580027),\n  (0.35740294102921194, 0.35740294260471533),\n  (0.3574029416294037, 0.35740294260471533),\n  (0.3574029416294037, 0.3574029422295955),\n  (0.3574029416294037, 0.3574029420045236),\n  (0.3574029416294037, 0.35740294185447563),\n  (0.3574029416294037, 0.3574029417794517),\n  (0.3574029416294037, 0.3574029417044277)])"
     },
     "execution_count": 76,
     "metadata": {},
     "output_type": "execute_result"
    }
   ],
   "source": [
    "fibonacci(f, start_point, end_point, 1e-10)\n"
   ],
   "metadata": {
    "collapsed": false,
    "pycharm": {
     "name": "#%%\n"
    }
   }
  },
  {
   "cell_type": "code",
   "execution_count": 77,
   "outputs": [],
   "source": [
    "def linear_search(function, left, delta=1e-2, eps=1e-3, factor=2):\n",
    "    start_value = function(left)\n",
    "    cur_delta = delta\n",
    "    right = left + cur_delta\n",
    "    while function(right) <= start_value + eps:\n",
    "        cur_delta *= factor\n",
    "        right += cur_delta\n",
    "\n",
    "    return right"
   ],
   "metadata": {
    "collapsed": false,
    "pycharm": {
     "name": "#%%\n"
    }
   }
  },
  {
   "cell_type": "code",
   "execution_count": 78,
   "outputs": [],
   "source": [
    "import numpy.linalg\n",
    "\n",
    "def gradient_descent(function, function_grad, cur_arg, step_calculation_method, eps=1e-4):\n",
    "    gradient_trace = [cur_arg]\n",
    "    while True:\n",
    "        cur_grad = function_grad(cur_arg)\n",
    "        gradient_step = step_calculation_method(function, cur_grad, cur_arg)\n",
    "        cur_arg -= cur_grad * gradient_step\n",
    "        gradient_trace.append(cur_arg)\n",
    "\n",
    "        if numpy.linalg.norm(cur_grad) < eps:\n",
    "            return gradient_trace"
   ],
   "metadata": {
    "collapsed": false,
    "pycharm": {
     "name": "#%%\n"
    }
   }
  },
  {
   "cell_type": "code",
   "execution_count": 79,
   "outputs": [],
   "source": [
    "def linear_step_calculation_method(method):\n",
    "\n",
    "    def result(function, function_grad, arg):\n",
    "        def linear_optimization_problem(k):\n",
    "            return function(arg - k * function_grad)\n",
    "\n",
    "        left_border = 0.\n",
    "        right_border = linear_search(linear_optimization_problem, left_border)\n",
    "        answer, _, _, _, _, _ = method(linear_optimization_problem, left_border, right_border)\n",
    "        return answer\n",
    "\n",
    "    return result"
   ],
   "metadata": {
    "collapsed": false,
    "pycharm": {
     "name": "#%%\n"
    }
   }
  },
  {
   "cell_type": "code",
   "execution_count": 80,
   "outputs": [],
   "source": [
    "\n",
    "def rosenbrock_function(arg):\n",
    "    x = arg[0]\n",
    "    y = arg[1]\n",
    "    return 100 * ((y - x ** 2) ** 2) + ((1. - x) ** 2)\n",
    "\n",
    "def rosenbrock_function_grad(arg):\n",
    "    x = arg[0]\n",
    "    y = arg[1]\n",
    "    dx = 2 * (200 * (x ** 3) - 200 * x * y + x - 1)\n",
    "    dy = 200 * (y - (x ** 2))\n",
    "    return np.array([dx, dy])\n"
   ],
   "metadata": {
    "collapsed": false,
    "pycharm": {
     "name": "#%%\n"
    }
   }
  },
  {
   "cell_type": "code",
   "execution_count": 93,
   "outputs": [
    {
     "name": "stdout",
     "output_type": "stream",
     "text": [
      "answer = [0.99991791 0.99983568] steps = 23805\n",
      "answer = [0.99991804 0.99983595] steps = 3\n",
      "answer = [0.99991818 0.99983621] steps = 3\n"
     ]
    }
   ],
   "source": [
    "gradient_start_point = np.array([-5.0, 10.0])\n",
    "\n",
    "linear_step_calculation_methods = [linear_step_calculation_method(method) for method in [dichotomy, golden_ratio, fibonacci]]\n",
    "for method in linear_step_calculation_methods:\n",
    "    trace = gradient_descent(rosenbrock_function, rosenbrock_function_grad, gradient_start_point, method)\n",
    "    print('answer =', trace[-1], 'steps =', len(trace))"
   ],
   "metadata": {
    "collapsed": false,
    "pycharm": {
     "name": "#%%\n"
    }
   }
  }
 ],
 "metadata": {
  "kernelspec": {
   "display_name": "Python 3",
   "language": "python",
   "name": "python3"
  },
  "language_info": {
   "codemirror_mode": {
    "name": "ipython",
    "version": 2
   },
   "file_extension": ".py",
   "mimetype": "text/x-python",
   "name": "python",
   "nbconvert_exporter": "python",
   "pygments_lexer": "ipython2",
   "version": "2.7.6"
  }
 },
 "nbformat": 4,
 "nbformat_minor": 0
}